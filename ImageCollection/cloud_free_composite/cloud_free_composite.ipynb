{
 "cells": [
  {
   "cell_type": "code",
   "execution_count": null,
   "id": "compliant-november",
   "metadata": {},
   "outputs": [],
   "source": [
    "import ee\n",
    "import geemap"
   ]
  },
  {
   "cell_type": "code",
   "execution_count": null,
   "id": "injured-bunch",
   "metadata": {},
   "outputs": [],
   "source": [
    "Map = geemap.Map()\n",
    "Map"
   ]
  },
  {
   "cell_type": "code",
   "execution_count": null,
   "id": "geological-pacific",
   "metadata": {},
   "outputs": [],
   "source": [
    "states = ee.FeatureCollection('TIGER/2018/States')\n",
    "TN = states.filter(ee.Filter.eq(\"NAME\", \"Tennessee\"))\n",
    "Map.addLayer(TN, {}, \"Tennessee\")"
   ]
  },
  {
   "cell_type": "code",
   "execution_count": null,
   "id": "written-specification",
   "metadata": {},
   "outputs": [],
   "source": [
    "years = ee.List.sequence(2013, 2020)\n",
    "years.getInfo()"
   ]
  },
  {
   "cell_type": "code",
   "execution_count": null,
   "id": "traditional-tolerance",
   "metadata": {},
   "outputs": [],
   "source": [
    "def yearly_image(year):\n",
    "    \n",
    "    start_date = ee.Date.fromYMD(year, 1, 1) \n",
    "    end_date = start_date.advance(1, \"year\")\n",
    "    \n",
    "    collection = ee.ImageCollection('LANDSAT/LC08/C01/T1') \\\n",
    "        .filterDate(start_date, end_date) \\\n",
    "        .filterBounds(TN) \n",
    "    \n",
    "    image =  ee.Algorithms.Landsat.simpleComposite(collection).clipToCollection(TN)\n",
    "\n",
    "    return image"
   ]
  },
  {
   "cell_type": "code",
   "execution_count": null,
   "id": "grateful-tract",
   "metadata": {},
   "outputs": [],
   "source": [
    "images = years.map(yearly_image)"
   ]
  },
  {
   "cell_type": "code",
   "execution_count": null,
   "id": "faced-value",
   "metadata": {},
   "outputs": [],
   "source": [
    "vis_params = {'bands': ['B5',  'B4',  'B3'], 'max': 128}"
   ]
  },
  {
   "cell_type": "code",
   "execution_count": null,
   "id": "documentary-delicious",
   "metadata": {},
   "outputs": [],
   "source": [
    "for index in range(0, 8):\n",
    "    image = ee.Image(images.get(index))\n",
    "    layer_name = \"Image \" + str(index + 2013)\n",
    "    Map.addLayer(image, vis_params, layer_name)"
   ]
  }
 ],
 "metadata": {
  "kernelspec": {
   "display_name": "Python 3",
   "language": "python",
   "name": "python3"
  },
  "language_info": {
   "codemirror_mode": {
    "name": "ipython",
    "version": 3
   },
   "file_extension": ".py",
   "mimetype": "text/x-python",
   "name": "python",
   "nbconvert_exporter": "python",
   "pygments_lexer": "ipython3",
   "version": "3.8.8"
  }
 },
 "nbformat": 4,
 "nbformat_minor": 5
}
